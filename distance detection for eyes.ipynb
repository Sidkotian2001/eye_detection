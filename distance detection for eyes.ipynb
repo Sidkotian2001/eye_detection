{
 "cells": [
  {
   "cell_type": "code",
   "execution_count": 7,
   "id": "f04f6557",
   "metadata": {},
   "outputs": [],
   "source": [
    "import numpy as np\n",
    "import cv2 as cv\n",
    "import mediapipe as mp\n",
    "import math"
   ]
  },
  {
   "cell_type": "code",
   "execution_count": 8,
   "id": "a5c87270",
   "metadata": {},
   "outputs": [],
   "source": [
    "mp_face_mesh = mp.solutions.face_mesh\n",
    "avg_dist = []"
   ]
  },
  {
   "cell_type": "code",
   "execution_count": 9,
   "id": "51ce9c87",
   "metadata": {},
   "outputs": [],
   "source": [
    "LEFT_EYE=[ 33, 7, 163, 144, 145, 153, 154, 155, 133, 173, 157, 158, 159, 160, 161 , 246 ]\n",
    "RIGHT_EYE =[ 362, 382, 381, 380, 374, 373, 390, 249, 263, 466, 388, 387, 386, 385,384, 398 ]\n",
    "LEFT_IRIS = [469, 470, 471, 472]\n",
    "RIGHT_IRIS = [474, 475, 476, 477]\n",
    "# CENTERS = [468,473]\n",
    "LEFT_CENTER = [468]\n",
    "RIGHT_CENTER = [473]"
   ]
  },
  {
   "cell_type": "code",
   "execution_count": 10,
   "id": "3c965d4b",
   "metadata": {},
   "outputs": [],
   "source": [
    "def mediapipe_detection(image, face):\n",
    "    image = cv.cvtColor(image, cv.COLOR_BGR2RGB)\n",
    "    image.flags.writeable = False\n",
    "    results = face.process(image)\n",
    "    image.flags.writeable = True\n",
    "    image = cv.cvtColor(image, cv.COLOR_RGB2BGR)\n",
    "    return image, results"
   ]
  },
  {
   "cell_type": "code",
   "execution_count": 11,
   "id": "63045c93",
   "metadata": {},
   "outputs": [],
   "source": [
    "def part_detection(part, facial_landmarks):\n",
    "    idx_to_coordinates = {}\n",
    "    for idx, landmark in enumerate(part):\n",
    "        coord = facial_landmarks.landmark[landmark]\n",
    "        p_x = min(math.floor(coord.x * img_height), img_height - 1)\n",
    "        p_y = min(math.floor(coord.y * img_width), img_width - 1)\n",
    "        landmark_coord = (p_x, p_y)\n",
    "\n",
    "        if landmark_coord:\n",
    "            idx_to_coordinates[idx] = landmark_coord\n",
    "    return idx_to_coordinates"
   ]
  },
  {
   "cell_type": "code",
   "execution_count": 12,
   "id": "caafc461",
   "metadata": {},
   "outputs": [],
   "source": [
    "def landmark_distance(image, coord1, coord2):\n",
    "    \n",
    "    cv.line(image, coord1[0], coord2[0], (0,255,0), 2)\n",
    "    irises_dist_in_pixels = math.dist(coord1[0], coord2[0])\n",
    "    irises_dist_in_rw = 7\n",
    "    face_dist_in_rw = 80\n",
    "    focal_length = (irises_dist_in_pixels * face_dist_in_rw) / irises_dist_in_rw\n",
    "    avg_dist.append(focal_length)\n",
    "    \n",
    "    \n",
    "    #focal length for distance = 70cm is 611cm\n",
    "    #focal length for distance = 60cm is 618cm\n",
    "    #focal length for distance = 50cm is 602cm\n",
    "    #focal length for distance = 40cm is 610cm\n",
    "    #average focal length = 610.25cm\n",
    "    avg_focal_length = 610\n",
    "    actual_distance = (avg_focal_length * irises_dist_in_rw) / irises_dist_in_pixels\n",
    "    return focal_length, actual_distance"
   ]
  },
  {
   "cell_type": "code",
   "execution_count": 13,
   "id": "5699f89f",
   "metadata": {},
   "outputs": [],
   "source": [
    "def display_part(image, coords, color, show_landmarks = False):\n",
    "    points = np.zeros(shape = (len(coords), 2))\n",
    "    for idx, landmark_px in coords.items():\n",
    "        points[idx] = landmark_px\n",
    "        if show_landmarks == True:\n",
    "            cv.circle(image, landmark_px, 1, (255, 0, 0), 2)\n",
    "    points = points.astype(np.int32)\n",
    "#     print(points)\n",
    "\n",
    "    cv.polylines(image, [points], True, color, 2)"
   ]
  },
  {
   "cell_type": "code",
   "execution_count": 15,
   "id": "84959309",
   "metadata": {},
   "outputs": [
    {
     "name": "stdout",
     "output_type": "stream",
     "text": [
      "661.0438322947307\n"
     ]
    }
   ],
   "source": [
    "cap = cv.VideoCapture(0)\n",
    "k = 0\n",
    "with mp_face_mesh.FaceMesh(\n",
    "    max_num_faces = 1,\n",
    "    refine_landmarks = True,\n",
    "    min_detection_confidence = 0.5,\n",
    "    min_tracking_confidence = 0.5\n",
    ") as face_mesh:\n",
    "    while True:\n",
    "        ret, frame = cap.read()\n",
    "        \n",
    "        if not ret:\n",
    "            print(\"Not ret\")\n",
    "            break\n",
    "            \n",
    "        img_width, img_height, _ = frame.shape\n",
    "        image = cv.flip(frame, 1)\n",
    "        image, results = mediapipe_detection(image, face_mesh)\n",
    "\n",
    "        \n",
    "        if results.multi_face_landmarks:\n",
    "            for num, facial_landmarks in enumerate(results.multi_face_landmarks):\n",
    "\n",
    "\n",
    "                left_centers_coords = part_detection(LEFT_CENTER, facial_landmarks)\n",
    "                right_centers_coords = part_detection(RIGHT_CENTER, facial_landmarks)\n",
    "                \n",
    "                display_part(image, left_centers_coords, (0,255,255), True)\n",
    "                display_part(image, right_centers_coords, (0,255,255), True)\n",
    "        \n",
    "                \n",
    "                focal_length, actual_distance = landmark_distance(image, left_centers_coords, right_centers_coords)\n",
    "                \n",
    "                cv.putText(image, f'dist:{actual_distance} cm', (100, 100), cv.FONT_HERSHEY_SIMPLEX, 1, (255, 0, 0), 2, cv.LINE_AA)\n",
    "        k += 1\n",
    "        cv.imshow(\"video feed\", image)\n",
    "        if cv.waitKey(5) & 0xff == ord('q'):\n",
    "            break\n",
    "\n",
    "print(sum(avg_dist) / len(avg_dist))\n",
    "avg_dist = []\n",
    "cap.release()\n",
    "cv.destroyAllWindows()\n"
   ]
  },
  {
   "cell_type": "code",
   "execution_count": null,
   "id": "68fa6670",
   "metadata": {},
   "outputs": [],
   "source": []
  },
  {
   "cell_type": "code",
   "execution_count": null,
   "id": "df09e3fc",
   "metadata": {},
   "outputs": [],
   "source": []
  }
 ],
 "metadata": {
  "kernelspec": {
   "display_name": "Python 3 (ipykernel)",
   "language": "python",
   "name": "python3"
  },
  "language_info": {
   "codemirror_mode": {
    "name": "ipython",
    "version": 3
   },
   "file_extension": ".py",
   "mimetype": "text/x-python",
   "name": "python",
   "nbconvert_exporter": "python",
   "pygments_lexer": "ipython3",
   "version": "3.8.10"
  }
 },
 "nbformat": 4,
 "nbformat_minor": 5
}
